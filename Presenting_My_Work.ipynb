{
 "cells": [
  {
   "cell_type": "code",
   "execution_count": null,
   "metadata": {},
   "outputs": [],
   "source": [
    "#Slide 1\n",
    "\n",
    "#Problem Identification. The Big Mountain Resort's pricing strategy has been to charge a premium above the average \n",
    "# price of resorts in its market segment. They know there are limitations to this approach. There's a \n",
    "# suspicion that Big Mountain is not capitalizing on its facilities as much as it could. Basing their \n",
    "# pricing on just the market average does not provide the business with a good sense of how important \n",
    "# some facilities are compared to others.” \n"
   ]
  },
  {
   "cell_type": "code",
   "execution_count": null,
   "metadata": {},
   "outputs": [],
   "source": [
    "#Slide 2\n",
    "\n",
    "#my recommendations for Big Mountain Resort in Montana include, but are not limited to,\n",
    "#raising its prices to $97.86, closing its least used run, adding a run, increasing the vertical drop by 150 feet, \n",
    "#and installing an additional chair lift."
   ]
  },
  {
   "cell_type": "code",
   "execution_count": null,
   "metadata": {},
   "outputs": [],
   "source": [
    "#Slide 3\n",
    "\n",
    "#Modeling results and analysis:\n",
    "\n",
    "#linear model coefficients\n",
    "# vertical_drop        10.767857\n",
    "# Snow Making_ac        6.290074\n",
    "# total_chairs          5.794156\n",
    "# fastQuads             5.745626\n",
    "# Runs                  5.370555\n",
    "# LongestRun_mi         0.181814\n",
    "# trams                -4.142024\n",
    "# SkiableTerrain_ac    -5.249780\n",
    "#lr_mae_mean=10.499\n",
    "#lr_mae_std=1.622\n",
    "#mean_absolute_error=11.793466\n",
    "\n",
    "\n",
    "#Random Forest dominant top four features:\n",
    "# fastQuads\n",
    "# Runs\n",
    "# Snow Making_ac\n",
    "# vertical_drop\n",
    "#rf_mae_mean=9.6446\n",
    "#rf_mae_std=1.3528565\n",
    "#mean_absolute_error=9.53773\n",
    "\n",
    "#The random forest model has a lower cross-validation mean absolute error by almost \\$1. It also exhibits \n",
    "# less variability. Verifying performance on the test set produces performance consistent with the \n",
    "# cross-validation results.\n",
    "\n",
    "# Features that came up as important in the modeling \n",
    "#(not just our final, random forest model) included:\n",
    "\n",
    "# vertical_drop\n",
    "# Snow Making_ac\n",
    "# total_chairs\n",
    "# fastQuads\n",
    "# Runs\n",
    "# LongestRun_mi\n",
    "# trams\n",
    "# SkiableTerrain_ac"
   ]
  },
  {
   "cell_type": "code",
   "execution_count": null,
   "metadata": {},
   "outputs": [],
   "source": [
    "#Slide 4\n",
    "\n",
    "#Summary and conclusion.\n",
    "#This is how things currently are at a price of $81.00.\n",
    "#These are how the new changes impact Big Mountain Resort.\n",
    "#this is why Big Mountain Resort wants to implement the changes.\n",
    "#This is how things could look if we join together and solve this big problem of optimizing the resort. "
   ]
  }
 ],
 "metadata": {
  "kernelspec": {
   "display_name": "Python 3",
   "language": "python",
   "name": "python3"
  },
  "language_info": {
   "codemirror_mode": {
    "name": "ipython",
    "version": 3
   },
   "file_extension": ".py",
   "mimetype": "text/x-python",
   "name": "python",
   "nbconvert_exporter": "python",
   "pygments_lexer": "ipython3",
   "version": "3.8.5"
  }
 },
 "nbformat": 4,
 "nbformat_minor": 4
}
