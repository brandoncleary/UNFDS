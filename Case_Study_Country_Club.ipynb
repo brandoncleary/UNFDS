{
 "cells": [
  {
   "cell_type": "code",
   "execution_count": 133,
   "metadata": {},
   "outputs": [],
   "source": [
    "import sqlite3\n",
    "from sqlite3 import Error\n",
    "\n",
    " \n",
    "def create_connection(db_file):\n",
    "    \"\"\" create a database connection to the SQLite database\n",
    "        specified by the db_file\n",
    "    :param db_file: database file\n",
    "    :return: Connection object or None\n",
    "    \"\"\"\n",
    "    conn = None\n",
    "    try:\n",
    "        conn = sqlite3.connect(db_file)\n",
    "        print(sqlite3.version)\n",
    "    except Error as e:\n",
    "        print(e)\n",
    " \n",
    "    return conn\n",
    "\n",
    " \n",
    "def select_all_tasks(conn, query1):\n",
    "    \"\"\"\n",
    "    Query all rows in the tasks table\n",
    "    :param conn: the Connection object\n",
    "    :return:\n",
    "    \"\"\"\n",
    "    cur = conn.cursor()\n",
    "    \n",
    "   \n",
    "    cur.execute(query1)\n",
    " \n",
    "    rows = cur.fetchall()\n",
    " \n",
    "    for row in rows:\n",
    "        print(row)\n",
    "\n",
    "\n",
    "def main(query1):\n",
    "    database = \"sqlite_db_pythonsqlite.db\"\n",
    " \n",
    "    # create a database connection\n",
    "    conn = create_connection(database)\n",
    "    with conn: \n",
    "        print(\"2. Query all tasks\")\n",
    "        select_all_tasks(conn, query1)\n",
    "        \n",
    " \n",
    "\n",
    "    \n"
   ]
  },
  {
   "cell_type": "markdown",
   "metadata": {},
   "source": [
    "Q1: Some of the facilities charge a fee to members, but some do not.\n",
    "Write a SQL query to produce a list of the names of the facilities that do.\n"
   ]
  },
  {
   "cell_type": "code",
   "execution_count": 134,
   "metadata": {},
   "outputs": [
    {
     "name": "stdout",
     "output_type": "stream",
     "text": [
      "2.6.0\n",
      "2. Query all tasks\n",
      "(0, 'GUEST', 'GUEST', 'GUEST', 0, '(000) 000-0000', '', '2012-07-01 00:00:00')\n",
      "(1, 'Smith', 'Darren', '8 Bloomsbury Close, Boston', 4321, '555-555-5555', '', '2012-07-02 12:02:05')\n",
      "(2, 'Smith', 'Tracy', '8 Bloomsbury Close, New York', 4321, '555-555-5555', '', '2012-07-02 12:08:23')\n",
      "(3, 'Rownam', 'Tim', '23 Highway Way, Boston', 23423, '(844) 693-0723', '', '2012-07-03 09:32:15')\n",
      "(4, 'Joplette', 'Janice', '20 Crossing Road, New York', 234, '(833) 942-4710', '1', '2012-07-03 10:25:05')\n",
      "(5, 'Butters', 'Gerald', '1065 Huntingdon Avenue, Boston', 56754, '(844) 078-4130', '1', '2012-07-09 10:44:09')\n",
      "(6, 'Tracy', 'Burton', '3 Tunisia Drive, Boston', 45678, '(822) 354-9973', '', '2012-07-15 08:52:55')\n",
      "(7, 'Dare', 'Nancy', '6 Hunting Lodge Way, Boston', 10383, '(833) 776-4001', '4', '2012-07-25 08:59:12')\n",
      "(8, 'Boothe', 'Tim', '3 Bloomsbury Close, Reading, 00234', 234, '(811) 433-2547', '3', '2012-07-25 16:02:35')\n",
      "(9, 'Stibbons', 'Ponder', '5 Dragons Way, Winchester', 87630, '(833) 160-3900', '6', '2012-07-25 17:09:05')\n",
      "(10, 'Owen', 'Charles', '52 Cheshire Grove, Winchester, 28563', 28563, '(855) 542-5251', '1', '2012-08-03 19:42:37')\n",
      "(11, 'Jones', 'David', '976 Gnats Close, Reading', 33862, '(844) 536-8036', '4', '2012-08-06 16:32:55')\n",
      "(12, 'Baker', 'Anne', '55 Powdery Street, Boston', 80743, '844-076-5141', '9', '2012-08-10 14:23:22')\n",
      "(13, 'Farrell', 'Jemima', '103 Firth Avenue, North Reading', 57392, '(855) 016-0163', '', '2012-08-10 14:28:01')\n",
      "(14, 'Smith', 'Jack', '252 Binkington Way, Boston', 69302, '(822) 163-3254', '1', '2012-08-10 16:22:05')\n",
      "(15, 'Bader', 'Florence', '264 Ursula Drive, Westford', 84923, '(833) 499-3527', '9', '2012-08-10 17:52:03')\n",
      "(16, 'Baker', 'Timothy', '329 James Street, Reading', 58393, '833-941-0824', '13', '2012-08-15 10:34:25')\n",
      "(17, 'Pinker', 'David', '5 Impreza Road, Boston', 65332, '811 409-6734', '13', '2012-08-16 11:32:47')\n",
      "(20, 'Genting', 'Matthew', '4 Nunnington Place, Wingfield, Boston', 52365, '(811) 972-1377', '5', '2012-08-19 14:55:55')\n",
      "(21, 'Mackenzie', 'Anna', '64 Perkington Lane, Reading', 64577, '(822) 661-2898', '1', '2012-08-26 09:32:05')\n",
      "(22, 'Coplin', 'Joan', '85 Bard Street, Bloomington, Boston', 43533, '(822) 499-2232', '16', '2012-08-29 08:32:41')\n",
      "(24, 'Sarwin', 'Ramnaresh', '12 Bullington Lane, Boston', 65464, '(822) 413-1470', '15', '2012-09-01 08:44:42')\n",
      "(26, 'Jones', 'Douglas', '976 Gnats Close, Reading', 11986, '844 536-8036', '11', '2012-09-02 18:43:05')\n",
      "(27, 'Rumney', 'Henrietta', '3 Burkington Plaza, Boston', 78533, '(822) 989-8876', '20', '2012-09-05 08:42:35')\n",
      "(28, 'Farrell', 'David', '437 Granite Farm Road, Westford', 43532, '(855) 755-9876', '', '2012-09-15 08:22:05')\n",
      "(29, 'Worthington-Smyth', 'Henry', '55 Jagbi Way, North Reading', 97676, '(855) 894-3758', '2', '2012-09-17 12:27:15')\n",
      "(30, 'Purview', 'Millicent', '641 Drudgery Close, Burnington, Boston', 34232, '(855) 941-9786', '2', '2012-09-18 19:04:01')\n",
      "(33, 'Tupperware', 'Hyacinth', '33 Cheerful Plaza, Drake Road, Westford', 68666, '(822) 665-5327', '', '2012-09-18 19:32:05')\n",
      "(35, 'Hunt', 'John', '5 Bullington Lane, Boston', 54333, '(899) 720-6978', '30', '2012-09-19 11:32:45')\n",
      "(36, 'Crumpet', 'Erica', 'Crimson Road, North Reading', 75655, '(811) 732-4816', '2', '2012-09-22 08:36:38')\n",
      "(37, 'Smith', 'Darren', '3 Funktown, Denzington, Boston', 66796, '(822) 577-3541', '', '2012-09-26 18:08:45')\n"
     ]
    }
   ],
   "source": [
    "query1=\"SELECT * FROM Members\"\n",
    "main(query1)"
   ]
  },
  {
   "cell_type": "code",
   "execution_count": 135,
   "metadata": {},
   "outputs": [
    {
     "name": "stdout",
     "output_type": "stream",
     "text": [
      "2.6.0\n",
      "2. Query all tasks\n",
      "(0, 'Tennis Court 1', 5, 25, 10000, 200)\n",
      "(1, 'Tennis Court 2', 5, 25, 8000, 200)\n",
      "(4, 'Massage Room 1', 9.9, 80, 4000, 3000)\n",
      "(5, 'Massage Room 2', 9.9, 80, 4000, 3000)\n",
      "(6, 'Squash Court', 3.5, 17.5, 5000, 80)\n"
     ]
    }
   ],
   "source": [
    "query2= \"SELECT * FROM facilities WHERE membercost > 0;\"\n",
    "main(query2)"
   ]
  },
  {
   "cell_type": "markdown",
   "metadata": {},
   "source": [
    "Q2: How many facilities do not charge a fee to members?"
   ]
  },
  {
   "cell_type": "code",
   "execution_count": 25,
   "metadata": {},
   "outputs": [
    {
     "name": "stdout",
     "output_type": "stream",
     "text": [
      "   COUNT(name)\n",
      "0            4\n"
     ]
    }
   ],
   "source": [
    "sql_connect = sqlite3.connect('sqlite_db_pythonsqlite.db')\n",
    "cursor = sql_connect.cursor()\n",
    "query = \"SELECT COUNT(name) FROM facilities WHERE membercost = 0;\"\n",
    "results = cursor.execute(query).fetchall()\n",
    "print(pd.read_sql_query(query,sql_connect))\n",
    "sql_connect.close()"
   ]
  },
  {
   "cell_type": "markdown",
   "metadata": {},
   "source": [
    "Q3: Write an SQL query to show a list of facilities that charge a fee to members,\n",
    "where the fee is less than 20% of the facility's monthly maintenance cost.\n",
    "Return the facid, facility name, member cost, and monthly maintenance of the\n",
    "facilities in question. "
   ]
  },
  {
   "cell_type": "code",
   "execution_count": 27,
   "metadata": {},
   "outputs": [
    {
     "name": "stdout",
     "output_type": "stream",
     "text": [
      "   facid            name  membercost  guestcost  initialoutlay  \\\n",
      "0      0  Tennis Court 1         5.0       25.0          10000   \n",
      "1      1  Tennis Court 2         5.0       25.0           8000   \n",
      "2      4  Massage Room 1         9.9       80.0           4000   \n",
      "3      5  Massage Room 2         9.9       80.0           4000   \n",
      "4      6    Squash Court         3.5       17.5           5000   \n",
      "\n",
      "   monthlymaintenance  \n",
      "0                 200  \n",
      "1                 200  \n",
      "2                3000  \n",
      "3                3000  \n",
      "4                  80  \n"
     ]
    }
   ],
   "source": [
    "sql_connect = sqlite3.connect('sqlite_db_pythonsqlite.db')\n",
    "cursor = sql_connect.cursor()\n",
    "query = \"SELECT * FROM facilities WHERE membercost > 0 and membercost < (.2 * monthlymaintenance);\"\n",
    "results = cursor.execute(query).fetchall()\n",
    "print(pd.read_sql_query(query,sql_connect))\n",
    "sql_connect.close()"
   ]
  },
  {
   "cell_type": "markdown",
   "metadata": {},
   "source": [
    "Q4: Write an SQL query to retrieve the details of facilities with ID 1 and 5.\n",
    "Try writing the query without using the OR operator."
   ]
  },
  {
   "cell_type": "code",
   "execution_count": 29,
   "metadata": {},
   "outputs": [
    {
     "name": "stdout",
     "output_type": "stream",
     "text": [
      "   facid            name  membercost  guestcost  initialoutlay  \\\n",
      "0      1  Tennis Court 2         5.0         25           8000   \n",
      "1      5  Massage Room 2         9.9         80           4000   \n",
      "\n",
      "   monthlymaintenance  \n",
      "0                 200  \n",
      "1                3000  \n"
     ]
    }
   ],
   "source": [
    "sql_connect = sqlite3.connect('sqlite_db_pythonsqlite.db')\n",
    "cursor = sql_connect.cursor()\n",
    "query = \"SELECT * FROM facilities WHERE facid in (1,5);\"\n",
    "results = cursor.execute(query).fetchall()\n",
    "print(pd.read_sql_query(query,sql_connect))\n",
    "sql_connect.close()"
   ]
  },
  {
   "cell_type": "markdown",
   "metadata": {},
   "source": [
    "Q5: Produce a list of facilities, with each labelled as\n",
    "'cheap' or 'expensive', depending on if their monthly maintenance cost is\n",
    "more than $100. Return the name and monthly maintenance of the facilities\n",
    "in question."
   ]
  },
  {
   "cell_type": "code",
   "execution_count": 45,
   "metadata": {},
   "outputs": [
    {
     "name": "stdout",
     "output_type": "stream",
     "text": [
      "              name  monthlymaintenance    Quality\n",
      "0   Tennis Court 1                 200  expensive\n",
      "1   Tennis Court 2                 200  expensive\n",
      "2  Badminton Court                  50      cheap\n",
      "3     Table Tennis                  10      cheap\n",
      "4   Massage Room 1                3000  expensive\n",
      "5   Massage Room 2                3000  expensive\n",
      "6     Squash Court                  80      cheap\n",
      "7    Snooker Table                  15      cheap\n",
      "8       Pool Table                  15      cheap\n"
     ]
    }
   ],
   "source": [
    "sql_connect = sqlite3.connect('sqlite_db_pythonsqlite.db')\n",
    "cursor = sql_connect.cursor()\n",
    "query = \"SELECT name, monthlymaintenance, CASE WHEN monthlymaintenance > 100 THEN 'expensive' ELSE 'cheap' END \\\n",
    "AS Quality FROM facilities;\"\n",
    "results = cursor.execute(query).fetchall()\n",
    "print(pd.read_sql_query(query,sql_connect))\n",
    "sql_connect.close()"
   ]
  },
  {
   "cell_type": "markdown",
   "metadata": {},
   "source": [
    "Q6: You'd like to get the first and last name of the last member(s)\n",
    "who signed up. Try not to use the LIMIT clause for your solution."
   ]
  },
  {
   "cell_type": "code",
   "execution_count": 148,
   "metadata": {},
   "outputs": [
    {
     "name": "stdout",
     "output_type": "stream",
     "text": [
      "  firstname surname             joindate\n",
      "0    Darren   Smith  2012-09-26 18:08:45\n"
     ]
    }
   ],
   "source": [
    "sql_connect = sqlite3.connect('sqlite_db_pythonsqlite.db')\n",
    "cursor = sql_connect.cursor()\n",
    "query = \"SELECT DISTINCT firstname, surname, joindate FROM members WHERE joindate= (SELECT MAX(joindate) from members) \\\n",
    "ORDER BY joindate DESC;\"\n",
    "results = cursor.execute(query).fetchall()\n",
    "print(pd.read_sql_query(query,sql_connect))\n",
    "sql_connect.close()"
   ]
  },
  {
   "cell_type": "markdown",
   "metadata": {},
   "source": [
    "Q7: Produce a list of all members who have used a tennis court.\n",
    "Include in your output the name of the court, and the name of the member\n",
    "formatted as a single column. Ensure no duplicate data, and order by\n",
    "the member name."
   ]
  },
  {
   "cell_type": "code",
   "execution_count": 100,
   "metadata": {},
   "outputs": [
    {
     "name": "stdout",
     "output_type": "stream",
     "text": [
      "              name         member_name\n",
      "0   Tennis Court 1     Bader, Florence\n",
      "1   Tennis Court 2     Bader, Florence\n",
      "2   Tennis Court 1         Baker, Anne\n",
      "3   Tennis Court 2         Baker, Anne\n",
      "4   Tennis Court 1      Baker, Timothy\n",
      "5   Tennis Court 2      Baker, Timothy\n",
      "6   Tennis Court 1         Boothe, Tim\n",
      "7   Tennis Court 2         Boothe, Tim\n",
      "8   Tennis Court 1     Butters, Gerald\n",
      "9   Tennis Court 2     Butters, Gerald\n",
      "10  Tennis Court 1        Coplin, Joan\n",
      "11  Tennis Court 1      Crumpet, Erica\n",
      "12  Tennis Court 1         Dare, Nancy\n",
      "13  Tennis Court 2         Dare, Nancy\n",
      "14  Tennis Court 1      Farrell, David\n",
      "15  Tennis Court 2      Farrell, David\n",
      "16  Tennis Court 1     Farrell, Jemima\n",
      "17  Tennis Court 2     Farrell, Jemima\n",
      "18  Tennis Court 1    Genting, Matthew\n",
      "19  Tennis Court 1          Hunt, John\n",
      "20  Tennis Court 2          Hunt, John\n",
      "21  Tennis Court 1        Jones, David\n",
      "22  Tennis Court 2        Jones, David\n",
      "23  Tennis Court 1      Jones, Douglas\n",
      "24  Tennis Court 1    Joplette, Janice\n",
      "25  Tennis Court 2    Joplette, Janice\n",
      "26  Tennis Court 1       Owen, Charles\n",
      "27  Tennis Court 2       Owen, Charles\n",
      "28  Tennis Court 1       Pinker, David\n",
      "29  Tennis Court 2  Purview, Millicent\n",
      "30  Tennis Court 1         Rownam, Tim\n",
      "31  Tennis Court 2         Rownam, Tim\n",
      "32  Tennis Court 2   Rumney, Henrietta\n",
      "33  Tennis Court 1   Sarwin, Ramnaresh\n",
      "34  Tennis Court 2   Sarwin, Ramnaresh\n",
      "35  Tennis Court 2       Smith, Darren\n",
      "36  Tennis Court 1         Smith, Jack\n",
      "37  Tennis Court 2         Smith, Jack\n",
      "38  Tennis Court 1        Smith, Tracy\n",
      "39  Tennis Court 2        Smith, Tracy\n",
      "40  Tennis Court 1    Stibbons, Ponder\n",
      "41  Tennis Court 2    Stibbons, Ponder\n",
      "42  Tennis Court 1       Tracy, Burton\n",
      "43  Tennis Court 2       Tracy, Burton\n"
     ]
    }
   ],
   "source": [
    "sql_connect = sqlite3.connect('sqlite_db_pythonsqlite.db')\n",
    "cursor = sql_connect.cursor()\n",
    "query = \"SELECT DISTINCT name , (surname || ', ' || firstname) AS member_name from Bookings LEFT JOIN Facilities using(facid) \\\n",
    "LEFT JOIN Members using(memid) WHERE facid in (0,1) AND memid != 0 ORDER BY surname, firstname, name;\"\n",
    "results = cursor.execute(query).fetchall()\n",
    "print(pd.read_sql_query(query,sql_connect))\n",
    "sql_connect.close()"
   ]
  },
  {
   "cell_type": "markdown",
   "metadata": {},
   "source": [
    "Q8: Produce a list of bookings on the day of 2012-09-14 which\n",
    "will cost the member (or guest) more than $30. Remember that guests have\n",
    "different costs to members (the listed costs are per half-hour 'slot'), and\n",
    "the guest user's ID is always 0. Include in your output the name of the\n",
    "facility, the name of the member formatted as a single column, and the cost.\n",
    "Order by descending cost, and do not use any subqueries."
   ]
  },
  {
   "cell_type": "code",
   "execution_count": 152,
   "metadata": {},
   "outputs": [
    {
     "name": "stdout",
     "output_type": "stream",
     "text": [
      "              name     member_name   cost\n",
      "0   Massage Room 2     GUEST GUEST  320.0\n",
      "1   Massage Room 1     GUEST GUEST  160.0\n",
      "2   Massage Room 1     GUEST GUEST  160.0\n",
      "3   Massage Room 1     GUEST GUEST  160.0\n",
      "4   Tennis Court 2     GUEST GUEST  150.0\n",
      "5   Tennis Court 1     GUEST GUEST   75.0\n",
      "6   Tennis Court 1     GUEST GUEST   75.0\n",
      "7   Tennis Court 2     GUEST GUEST   75.0\n",
      "8     Squash Court     GUEST GUEST   70.0\n",
      "9   Massage Room 1  Jemima Farrell   39.6\n",
      "10    Squash Court     GUEST GUEST   35.0\n",
      "11    Squash Court     GUEST GUEST   35.0\n"
     ]
    }
   ],
   "source": [
    "sql_connect = sqlite3.connect('sqlite_db_pythonsqlite.db')\n",
    "cursor = sql_connect.cursor()\n",
    "query = \"SELECT name, (firstname || ' ' || surname) AS member_name, CASE WHEN memid = 0 THEN \\\n",
    "slots * guestcost ELSE slots * membercost END AS cost FROM Bookings LEFT JOIN Facilities using(facid) LEFT JOIN Members \\\n",
    "using(memid) WHERE starttime LIKE '2012-09-14%' AND cost > 30 ORDER BY cost DESC;\"\n",
    "results = cursor.execute(query).fetchall()\n",
    "print(pd.read_sql_query(query,sql_connect))\n",
    "sql_connect.close()"
   ]
  },
  {
   "cell_type": "markdown",
   "metadata": {},
   "source": [
    "Q9: This time, produce the same result as in Q8, but using a subquery."
   ]
  },
  {
   "cell_type": "code",
   "execution_count": 153,
   "metadata": {},
   "outputs": [
    {
     "name": "stdout",
     "output_type": "stream",
     "text": [
      "              name     member_name   cost\n",
      "0   Massage Room 2     GUEST GUEST  320.0\n",
      "1   Massage Room 1     GUEST GUEST  160.0\n",
      "2   Massage Room 1     GUEST GUEST  160.0\n",
      "3   Massage Room 1     GUEST GUEST  160.0\n",
      "4   Tennis Court 2     GUEST GUEST  150.0\n",
      "5   Tennis Court 1     GUEST GUEST   75.0\n",
      "6   Tennis Court 1     GUEST GUEST   75.0\n",
      "7   Tennis Court 2     GUEST GUEST   75.0\n",
      "8     Squash Court     GUEST GUEST   70.0\n",
      "9   Massage Room 1  Jemima Farrell   39.6\n",
      "10    Squash Court     GUEST GUEST   35.0\n",
      "11    Squash Court     GUEST GUEST   35.0\n"
     ]
    }
   ],
   "source": [
    "sql_connect = sqlite3.connect('sqlite_db_pythonsqlite.db')\n",
    "cursor = sql_connect.cursor()\n",
    "query = \"SELECT name, (firstname || ' ' || surname) AS member_name, CASE WHEN memid = 0 THEN slots * guestcost ELSE \\\n",
    "slots * membercost END AS cost FROM (SELECT * FROM Bookings WHERE starttime LIKE '2012-09-14%') \\\n",
    "LEFT JOIN Facilities using(facid) LEFT JOIN Members using(memid) WHERE (memid = 0 and slots * guestcost > 30) or \\\n",
    "(memid != 0 and slots * membercost > 30)  ORDER BY cost DESC;\"\n",
    "results = cursor.execute(query).fetchall()\n",
    "print(pd.read_sql_query(query,sql_connect))\n",
    "sql_connect.close()"
   ]
  },
  {
   "cell_type": "markdown",
   "metadata": {},
   "source": [
    "Q10: Produce a list of facilities with a total revenue less than 1000.\n",
    "The output of facility name and total revenue, sorted by revenue. Remember\n",
    "that there's a different cost for guests and members! "
   ]
  },
  {
   "cell_type": "code",
   "execution_count": 81,
   "metadata": {},
   "outputs": [
    {
     "name": "stdout",
     "output_type": "stream",
     "text": [
      "            name  revenue\n",
      "0     Pool Table      270\n",
      "1  Snooker Table      240\n",
      "2   Table Tennis      180\n"
     ]
    }
   ],
   "source": [
    "sql_connect = sqlite3.connect('sqlite_db_pythonsqlite.db')\n",
    "cursor = sql_connect.cursor()\n",
    "query = \"SELECT name, sum(CASE WHEN memid = 0 THEN slots * guestcost ELSE slots * membercost END) AS revenue \\\n",
    "FROM Bookings LEFT JOIN Facilities using(facid) GROUP BY name HAVING revenue < 1000;\"\n",
    "results = cursor.execute(query).fetchall()\n",
    "print(pd.read_sql_query(query,sql_connect))\n",
    "sql_connect.close()"
   ]
  },
  {
   "cell_type": "markdown",
   "metadata": {},
   "source": [
    "Q11: Produce a report of members and who recommended them in alphabetic surname,firstname order"
   ]
  },
  {
   "cell_type": "code",
   "execution_count": 110,
   "metadata": {},
   "outputs": [
    {
     "name": "stdout",
     "output_type": "stream",
     "text": [
      "                     members      recommended_by\n",
      "0          Sarwin, Ramnaresh     Bader, Florence\n",
      "1               Coplin, Joan      Baker, Timothy\n",
      "2           Genting, Matthew     Butters, Gerald\n",
      "3             Baker, Timothy     Farrell, Jemima\n",
      "4              Pinker, David     Farrell, Jemima\n",
      "5          Rumney, Henrietta    Genting, Matthew\n",
      "6             Jones, Douglas        Jones, David\n",
      "7                Dare, Nancy    Joplette, Janice\n",
      "8               Jones, David    Joplette, Janice\n",
      "9                 Hunt, John  Purview, Millicent\n",
      "10               Boothe, Tim         Rownam, Tim\n",
      "11          Joplette, Janice       Smith, Darren\n",
      "12           Butters, Gerald       Smith, Darren\n",
      "13             Owen, Charles       Smith, Darren\n",
      "14               Smith, Jack       Smith, Darren\n",
      "15           Mackenzie, Anna       Smith, Darren\n",
      "16  Worthington-Smyth, Henry        Smith, Tracy\n",
      "17        Purview, Millicent        Smith, Tracy\n",
      "18            Crumpet, Erica        Smith, Tracy\n",
      "19               Baker, Anne    Stibbons, Ponder\n",
      "20           Bader, Florence    Stibbons, Ponder\n",
      "21          Stibbons, Ponder       Tracy, Burton\n"
     ]
    }
   ],
   "source": [
    "sql_connect = sqlite3.connect('sqlite_db_pythonsqlite.db')\n",
    "cursor = sql_connect.cursor()\n",
    "query = \"SELECT (a.surname || ', ' || a.firstname) AS members, (b.surname || ', ' || b.firstname) \\\n",
    "AS recommended_by FROM Members AS a, Members AS b WHERE a.recommendedby != 0 and a.recommendedby = b.memid ORDER BY \\\n",
    "b.surname, b.firstname;\"\n",
    "results = cursor.execute(query).fetchall()\n",
    "print(pd.read_sql_query(query,sql_connect))\n",
    "sql_connect.close()"
   ]
  },
  {
   "cell_type": "markdown",
   "metadata": {},
   "source": [
    "Q12: Find the facilities with their usage by member, but not guests"
   ]
  },
  {
   "cell_type": "code",
   "execution_count": 111,
   "metadata": {},
   "outputs": [
    {
     "name": "stdout",
     "output_type": "stream",
     "text": [
      "                name       member_name  usage\n",
      "0    Badminton Court    Anna Mackenzie     30\n",
      "1    Badminton Court        Anne Baker     10\n",
      "2    Badminton Court      Burton Tracy      2\n",
      "3    Badminton Court      Charles Owen      6\n",
      "4    Badminton Court      Darren Smith    132\n",
      "..               ...               ...    ...\n",
      "197   Tennis Court 2  Ramnaresh Sarwin     11\n",
      "198   Tennis Court 2        Tim Boothe     52\n",
      "199   Tennis Court 2        Tim Rownam      6\n",
      "200   Tennis Court 2     Timothy Baker      7\n",
      "201   Tennis Court 2       Tracy Smith      2\n",
      "\n",
      "[202 rows x 3 columns]\n"
     ]
    }
   ],
   "source": [
    "sql_connect = sqlite3.connect('sqlite_db_pythonsqlite.db')\n",
    "cursor = sql_connect.cursor()\n",
    "query = \"SELECT name, (firstname || ' ' || surname) AS member_name, count(surname) AS 'usage' \\\n",
    "FROM Bookings LEFT JOIN Facilities using(facid) LEFT JOIN Members using(memid) WHERE memid != 0 GROUP \\\n",
    "BY name, member_name;\"\n",
    "results = cursor.execute(query).fetchall()\n",
    "print(pd.read_sql_query(query,sql_connect))\n",
    "sql_connect.close()"
   ]
  },
  {
   "cell_type": "markdown",
   "metadata": {},
   "source": [
    "Q13: Find the facilities usage by month, but not guests "
   ]
  },
  {
   "cell_type": "code",
   "execution_count": 126,
   "metadata": {},
   "outputs": [
    {
     "name": "stdout",
     "output_type": "stream",
     "text": [
      "   month             name  usage\n",
      "0     07  Badminton Court     51\n",
      "1     07   Massage Room 1     77\n",
      "2     07   Massage Room 2      4\n",
      "3     07       Pool Table    103\n",
      "4     07    Snooker Table     68\n",
      "5     07     Squash Court     23\n",
      "6     07     Table Tennis     48\n",
      "7     07   Tennis Court 1     65\n",
      "8     07   Tennis Court 2     41\n",
      "9     08  Badminton Court    132\n",
      "10    08   Massage Room 1    153\n",
      "11    08   Massage Room 2      9\n",
      "12    08       Pool Table    272\n",
      "13    08    Snooker Table    154\n",
      "14    08     Squash Court     85\n",
      "15    08     Table Tennis    143\n",
      "16    08   Tennis Court 1    111\n",
      "17    08   Tennis Court 2    109\n",
      "18    09  Badminton Court    161\n",
      "19    09   Massage Room 1    191\n",
      "20    09   Massage Room 2     14\n",
      "21    09       Pool Table    408\n",
      "22    09    Snooker Table    199\n",
      "23    09     Squash Court     87\n",
      "24    09     Table Tennis    194\n",
      "25    09   Tennis Court 1    132\n",
      "26    09   Tennis Court 2    126\n"
     ]
    }
   ],
   "source": [
    "sql_connect = sqlite3.connect('sqlite_db_pythonsqlite.db')\n",
    "cursor = sql_connect.cursor()\n",
    "query = \"SELECT strftime('%m' , starttime) AS month, name, count(name) AS 'usage' FROM Bookings LEFT JOIN Facilities \\\n",
    "using(facid) WHERE memid != 0 GROUP BY month, name;\"\n",
    "results = cursor.execute(query).fetchall()\n",
    "print(pd.read_sql_query(query,sql_connect))\n",
    "sql_connect.close()"
   ]
  }
 ],
 "metadata": {
  "kernelspec": {
   "display_name": "Python 3",
   "language": "python",
   "name": "python3"
  },
  "language_info": {
   "codemirror_mode": {
    "name": "ipython",
    "version": 3
   },
   "file_extension": ".py",
   "mimetype": "text/x-python",
   "name": "python",
   "nbconvert_exporter": "python",
   "pygments_lexer": "ipython3",
   "version": "3.8.5"
  }
 },
 "nbformat": 4,
 "nbformat_minor": 4
}
