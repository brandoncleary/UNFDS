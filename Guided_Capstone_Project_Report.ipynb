{
 "cells": [
  {
   "cell_type": "code",
   "execution_count": null,
   "metadata": {},
   "outputs": [],
   "source": [
    "# Write a 1-2 page report summarizing your recommendations for Big Mountain Resort. \n",
    "#Be sure to include the figures you created to back up your recommendations "
   ]
  },
  {
   "cell_type": "code",
   "execution_count": null,
   "metadata": {},
   "outputs": [],
   "source": [
    "#Two kinds of ticket prices, Adult wekend price and adult weekday price, were utilized to pricing a model to \n",
    "#maximize returns of Big Mountain Resort in Montana."
   ]
  },
  {
   "cell_type": "code",
   "execution_count": null,
   "metadata": {},
   "outputs": [],
   "source": [
    "#There is a positive correlation between the ratio of night skiing area with the number of resorts per capita.  \n",
    "#It seems that when resorts are more densely located with population, more night skiing is provided.\n",
    "\n",
    "#Turning your attention to your target feature, AdultWeekend ticket price, you see quite a few reasonable correlations. \n",
    "#fastQuads stands out, along with Runs and Snow Making_ac. The last one is interesting. Visitors would seem to value more\n",
    "# guaranteed snow, which would cost in terms of snow making equipment, which would drive prices and costs up. Of the new \n",
    "# features, resort_night_skiing_state_ratio seems the most correlated with ticket price. If this is true, then perhaps \n",
    "# seizing a greater share of night skiing capacity is positive for the price a resort can charge.\n",
    "\n",
    "# As well as Runs, total_chairs is quite well correlated with ticket price. This is plausible; the more runs you have, \n",
    "# the more chairs you'd need to ferry people to them! Interestingly, they may count for more than the total skiable terrain \n",
    "# area. For sure, the total skiable terrain area is not as useful as the area with snow making. People seem to put more \n",
    "# value in guaranteed snow cover rather than more variable terrain area.\n",
    "\n",
    "# The vertical drop seems to be a selling point that raises ticket prices as well.\n",
    "\n",
    "\n",
    "# At first these relationships are quite counterintuitive. It seems that the more chairs a resort has to move people \n",
    "# around, relative to the number of runs, ticket price rapidly plummets and stays low. What we may be seeing here is an \n",
    "# exclusive vs. mass market resort effect; if you don't have so many chairs, you can charge more for your tickets, although \n",
    "# with fewer chairs you're inevitably going to be able to serve fewer visitors. Your price per visitor is high but your \n",
    "# number of visitors may be low. Something very useful that's missing from the data is the number of visitors per year.\n",
    "\n",
    "# It also appears that having no fast quads may limit the ticket price, but if your resort covers a wide area then getting \n",
    "# a small number of fast quads may be beneficial to ticket price.\n",
    "\n",
    "#linear model coefficients\n",
    "# vertical_drop        10.767857\n",
    "# Snow Making_ac        6.290074\n",
    "# total_chairs          5.794156\n",
    "# fastQuads             5.745626\n",
    "# Runs                  5.370555\n",
    "# LongestRun_mi         0.181814\n",
    "# trams                -4.142024\n",
    "# SkiableTerrain_ac    -5.249780\n",
    "# dtype: float64\n",
    "# These results suggest that vertical drop is your biggest positive feature. This makes intuitive \n",
    "# sense and is consistent with what you saw during the EDA work. Also, you see the area covered \n",
    "# by snow making equipment is a strong positive as well. People like guaranteed skiing! The skiable terrain \n",
    "# area is negatively associated with ticket price! This seems odd. People will pay less for larger resorts? \n",
    "# There could be all manner of reasons for this. It could be an effect whereby larger resorts can host more \n",
    "# visitors at any one time and so can charge less per ticket. As has been mentioned previously, the data are \n",
    "# missing information about visitor numbers. Bear in mind, the coefficient for skiable terrain is negative \n",
    "# for this model. For example, if you kept the total number of chairs and fastQuads constant, but increased \n",
    "# the skiable terrain extent, you might imagine the resort is worse off because the chairlift capacity is \n",
    "# stretched thinner.\n",
    "\n",
    "\n",
    "# Rnadom Forest top four features:\n",
    "# fastQuads\n",
    "# Runs\n",
    "# Snow Making_ac\n",
    "# vertical_drop\n",
    "\n",
    "# The random forest model has a lower cross-validation mean absolute error by almost \\$1. It also exhibits \n",
    "# less variability. Verifying performance on the test set produces performance consistent with the cross-validation results.\n",
    "# Sufficient Data. There's an initial rapid improvement in model scores as one would \n",
    "# expect, but it's essentially levelled off by around a sample size of 40-50.\n",
    "\n",
    "# Big Mountain Resort modelled price is $95.87, actual price is $81.00.\n",
    "# Even with the expected mean absolute error of $10.39, this suggests there is room for an increase.\n",
    "# This result should be looked at optimistically and doubtfully! The validity of our model lies in the \n",
    "#assumption that other resorts accurately set their prices according to what the market (the ticket-buying public) supports. \n",
    "#The fact that our resort seems to be charging that much less that what's predicted suggests our resort might be undercharging. \n",
    "# But if ours is mispricing itself, are others? It's reasonable to expect that some resorts will be \"overpriced\" and some \"underpriced.\" \n",
    "# Or if resorts are pretty good at pricing strategies, it could be that our model is simply lacking some key data? Certainly we \n",
    "# know nothing about operating costs, for example, and they would surely help.\n",
    "\n",
    "#potential scenarios:\n",
    "#Scenario 1:The model says closing one run makes no difference.\n",
    "#Scenario 2:This scenario increases support for ticket price by $1.99.Over the season, this \n",
    "#could be expected to amount to $3474638.\n",
    "#Scenario 3: The additional acres are insignificant. Just go with scenario 2 bc it will be easier to implement.\n",
    "#Scenario 4: No difference.\n"
   ]
  },
  {
   "cell_type": "code",
   "execution_count": null,
   "metadata": {},
   "outputs": [],
   "source": [
    "#In conclusion, my recommendations for Big Mountain Resort in Montana include, but are not limited to,\n",
    "#raising its prices to $97.86, closing its least used run, adding a run, increasing the vertical drop by 150 feet, \n",
    "#and installing an additional chair lift."
   ]
  }
 ],
 "metadata": {
  "kernelspec": {
   "display_name": "Python 3",
   "language": "python",
   "name": "python3"
  },
  "language_info": {
   "codemirror_mode": {
    "name": "ipython",
    "version": 3
   },
   "file_extension": ".py",
   "mimetype": "text/x-python",
   "name": "python",
   "nbconvert_exporter": "python",
   "pygments_lexer": "ipython3",
   "version": "3.8.5"
  }
 },
 "nbformat": 4,
 "nbformat_minor": 4
}
